{
 "metadata": {
  "name": "gridconvert"
 },
 "nbformat": 3,
 "nbformat_minor": 0,
 "worksheets": [
  {
   "cells": [
    {
     "cell_type": "code",
     "collapsed": false,
     "input": [
      "#!/usr/bin/python\n",
      "\n",
      "'''Created by Daniel Sindhikara, sindhikara@gmail.com\n",
      "Program converts various volumetric data formats.\n",
      "\n",
      "For now only inputs UxDATA and TINKER guv files.\n",
      "For now only outputs .dx files.\n",
      "'''  \n",
      "\n",
      "from __future__ import division\n",
      "\n",
      "import grid.grid as grid\n",
      "import sys\n",
      "import argparse\n",
      "# from math import *\n",
      "# import matplotlib as plt\n",
      "# import pylab as pl\n",
      "# import numpy as np\n",
      "# import os\n"
     ],
     "language": "python",
     "metadata": {},
     "outputs": [],
     "prompt_number": 1
    },
    {
     "cell_type": "code",
     "collapsed": false,
     "input": [],
     "language": "python",
     "metadata": {},
     "outputs": []
    },
    {
     "cell_type": "code",
     "collapsed": false,
     "input": [
      "def main():\n",
      "    parser = \\\n",
      "        argparse.ArgumentParser(description='Converts volumetric data.'\n",
      "                                )\n",
      "    parser.add_argument('inputfile', type=str, help='Input volumetric data file')\n",
      "    parser.add_argument('-iuvdata', action=\"store_true\", default=False, \\\n",
      "                        help='Inputfile is UxDATA file.')\n",
      "    parser.add_argument('-itguv', action=\"store_true\", default=False, \\\n",
      "                        help='Inputfile is TINKER guv file.')\n",
      "    parser.add_argument('--disttypes', type=str, \\\n",
      "                         help='Type of distributions to output. E.g. '+\\\n",
      "                              '\"--disttypes g\" or \"--disttypes gct\"',\\\n",
      "                         default = 'g')\n",
      "    \n",
      "    args = parser.parse_args()\n",
      "    print \"Will write newfiles as extensions of original filename.\"\n",
      "    \n",
      "    if args.iuvdata and args.itguv:\n",
      "        exit(\"Error, pick only one input format!\")\n",
      "    \n",
      "    if args.iuvdata:\n",
      "        grids = grid.data2Grids(args.inputfile, disttypes=args.disttypes)\n",
      "        for gridname, mygrid in grids.iteritems():\n",
      "            outname = args.inputfile + '.' + gridname + '.dx'\n",
      "            mygrid.writedx(outname)\n",
      "    elif args.itguv:\n",
      "        grids = grid.TKRguv2Grids(args.inputfile)\n",
      "        for gridnum, mygrid in enumerate(grids):\n",
      "            outname = args.inputfile + '.' + str(gridnum) + '.dx'\n",
      "            mygrid.writedx(outname)\n",
      "\n",
      "\n",
      "if __name__ == '__main__':\n",
      "    main()"
     ],
     "language": "python",
     "metadata": {},
     "outputs": []
    }
   ],
   "metadata": {}
  }
 ]
}