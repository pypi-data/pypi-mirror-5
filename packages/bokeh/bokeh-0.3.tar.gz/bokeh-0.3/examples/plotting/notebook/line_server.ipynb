{
 "metadata": {
  "name": ""
 },
 "nbformat": 3,
 "nbformat_minor": 0,
 "worksheets": [
  {
   "cells": [
    {
     "cell_type": "raw",
     "metadata": {},
     "source": [
      "This IPython Notebook contains simple examples of the line function. \n",
      "\n",
      "To clear all previously rendered cell outputs, select from the menu:\n",
      "\n",
      "    Cell -> All Output -> Clear"
     ]
    },
    {
     "cell_type": "code",
     "collapsed": false,
     "input": [
      "import numpy as np\n",
      "from bokeh.plotting import *"
     ],
     "language": "python",
     "metadata": {},
     "outputs": [],
     "prompt_number": 1
    },
    {
     "cell_type": "code",
     "collapsed": false,
     "input": [
      "output_notebook(url=\"http://localhost:5006/\")"
     ],
     "language": "python",
     "metadata": {},
     "outputs": [
      {
       "html": [
        "<p>Connecting notebook to document \"IPython Session at Tue Nov 19 14:47:09 2013\" at server http://localhost:5006/</p>"
       ],
       "metadata": {},
       "output_type": "display_data"
      }
     ],
     "prompt_number": 2
    },
    {
     "cell_type": "code",
     "collapsed": false,
     "input": [
      "N = 80\n",
      "x = np.linspace(0, 4*np.pi, N)\n",
      "y = np.sin(x)"
     ],
     "language": "python",
     "metadata": {},
     "outputs": [],
     "prompt_number": 3
    },
    {
     "cell_type": "code",
     "collapsed": false,
     "input": [
      " line(x,y, color=\"#0000FF\", tools=\"pan,zoom,resize\")"
     ],
     "language": "python",
     "metadata": {},
     "outputs": [
      {
       "html": [
        "<script src=\"http://localhost:5006//bokeh/embed.js\" bokeh_plottype=\"serverconn\"\n",
        "        bokeh_docid=\"33e6f8f3-8b67-4680-8dfa-5f3f6e6d250d\" bokeh_ws_conn_string=\"ws://localhost:5006/bokeh/sub\"\n",
        "        bokeh_docapikey=\"69808fc2-0a83-4bea-9068-06bb70a7be20\" bokeh_root_url=\"http://localhost:5006/\"\n",
        "        bokeh_modelid=\"cbf14097-0411-44eb-a110-eda18be81d1f\" bokeh_modeltype=\"Plot\" async=\"true\"></script>\n",
        "        "
       ],
       "metadata": {},
       "output_type": "display_data"
      },
      {
       "metadata": {},
       "output_type": "pyout",
       "prompt_number": 4,
       "text": [
        "<bokeh.objects.Plot at 0x111228310>"
       ]
      }
     ],
     "prompt_number": 4
    },
    {
     "cell_type": "code",
     "collapsed": false,
     "input": [],
     "language": "python",
     "metadata": {},
     "outputs": []
    }
   ],
   "metadata": {}
  }
 ]
}