{
 "metadata": {
  "name": "tutorial"
 },
 "nbformat": 3,
 "nbformat_minor": 0,
 "worksheets": [
  {
   "cells": [
    {
     "cell_type": "code",
     "collapsed": true,
     "input": [
      "from root_numpy import root2rec, root2array"
     ],
     "language": "python",
     "metadata": {},
     "outputs": [],
     "prompt_number": 1
    },
    {
     "cell_type": "code",
     "collapsed": false,
     "input": [
      "#root2rec\n",
      "ar = root2rec('../test/test.root','tree')\n",
      "print ar.i\n",
      "print ar.f\n",
      "#ipython autocomplete columnname patch is available with this numpy patch\n",
      "#https://github.com/piti118/numpy/commit/a996292238ab98dcf53f2d48476d637eab9f1a72\n",
      "ar.i[0] #ar[0].i won't work\n",
      "ar[0][0]"
     ],
     "language": "python",
     "metadata": {},
     "outputs": [
      {
       "output_type": "stream",
       "stream": "stdout",
       "text": [
        "[ 0  2  4  6  8 10 12 14 16 18]\n",
        "[  0.           1.20000005   2.4000001    3.5999999    4.80000019   6.\n",
        "   7.19999981   8.39999962   9.60000038  10.80000019]\n"
       ]
      },
      {
       "output_type": "pyout",
       "prompt_number": 2,
       "text": [
        "0"
       ]
      }
     ],
     "prompt_number": 2
    },
    {
     "cell_type": "code",
     "collapsed": false,
     "input": [
      "ar.f[ar.i>5]"
     ],
     "language": "python",
     "metadata": {},
     "outputs": [
      {
       "output_type": "pyout",
       "prompt_number": 3,
       "text": [
        "array([  3.5999999 ,   4.80000019,   6.        ,   7.19999981,\n",
        "         8.39999962,   9.60000038,  10.80000019], dtype=float32)"
       ]
      }
     ],
     "prompt_number": 3
    },
    {
     "cell_type": "code",
     "collapsed": false,
     "input": [
      "#root2array is available if you don't like recarray\n",
      "a=root2array('../test/test.root','tree')\n",
      "#this tree has two column i and integer and f as float\n",
      "a #you will see that a is a structure array"
     ],
     "language": "python",
     "metadata": {},
     "outputs": [
      {
       "output_type": "pyout",
       "prompt_number": 4,
       "text": [
        "array([(0, 0.0), (2, 1.2000000476837158), (4, 2.4000000953674316),\n",
        "       (6, 3.5999999046325684), (8, 4.800000190734863), (10, 6.0),\n",
        "       (12, 7.199999809265137), (14, 8.399999618530273),\n",
        "       (16, 9.600000381469727), (18, 10.800000190734863)], \n",
        "      dtype=[('i', '<i4'), ('f', '<f4')])"
       ]
      }
     ],
     "prompt_number": 4
    },
    {
     "cell_type": "code",
     "collapsed": false,
     "input": [
      "#access whole column\n",
      "print a['i']\n",
      "print a['f']"
     ],
     "language": "python",
     "metadata": {},
     "outputs": [
      {
       "output_type": "stream",
       "stream": "stdout",
       "text": [
        "[ 0  2  4  6  8 10 12 14 16 18]\n",
        "[  0.           1.20000005   2.4000001    3.5999999    4.80000019   6.\n",
        "   7.19999981   8.39999962   9.60000038  10.80000019]\n"
       ]
      }
     ],
     "prompt_number": 5
    },
    {
     "cell_type": "code",
     "collapsed": false,
     "input": [
      "#access 0th record\n",
      "print a[0]\n",
      "#and the first record\n",
      "print a[1]"
     ],
     "language": "python",
     "metadata": {},
     "outputs": [
      {
       "output_type": "stream",
       "stream": "stdout",
       "text": [
        "(0, 0.0)\n",
        "(2, 1.2000000476837158)\n"
       ]
      }
     ],
     "prompt_number": 6
    },
    {
     "cell_type": "code",
     "collapsed": false,
     "input": [
      "#access 1st record column i\n",
      "print a[1]['i']\n",
      "#and this may confuse you but\n",
      "print a['i'][1]\n",
      "#there is a tiny different here a[some string] will return numpy array of that \n",
      "#column which you can index it again while a[integer] will return the that structure \n",
      "#which you can index it again\n",
      "print a[1][0] #this one works too"
     ],
     "language": "python",
     "metadata": {},
     "outputs": [
      {
       "output_type": "stream",
       "stream": "stdout",
       "text": [
        "2\n",
        "2\n",
        "2\n"
       ]
      }
     ],
     "prompt_number": 7
    }
   ],
   "metadata": {}
  }
 ]
}